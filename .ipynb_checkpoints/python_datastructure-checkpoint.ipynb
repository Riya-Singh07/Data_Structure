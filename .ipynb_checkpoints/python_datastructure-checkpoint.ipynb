{
 "cells": [
  {
   "cell_type": "markdown",
   "id": "968a4281-4827-417b-ac28-2a04498d2bce",
   "metadata": {
    "tags": []
   },
   "source": [
    "python data structures\n"
   ]
  },
  {
   "cell_type": "code",
   "execution_count": 1,
   "id": "d9d84d80-1ea4-4174-80ea-eba9dc596809",
   "metadata": {},
   "outputs": [],
   "source": [
    "#Discuss string slicing and provide examples.\n",
    "\n",
    "#String slicing in Python allows you to extract a portion of a string using a specific range of indices. The general syntax for string slicing is:"
   ]
  },
  {
   "cell_type": "code",
   "execution_count": 2,
   "id": "ada4d322-4342-44d8-a59f-a536007e7d61",
   "metadata": {},
   "outputs": [],
   "source": [
    "#string[start:stop:step]"
   ]
  },
  {
   "cell_type": "code",
   "execution_count": 3,
   "id": "5e5c481c-abdc-4d26-9402-24a580ea4989",
   "metadata": {},
   "outputs": [],
   "source": [
    "#Examples"
   ]
  },
  {
   "cell_type": "code",
   "execution_count": 5,
   "id": "56552449-fc50-4bbd-aa73-20fbc4cb4aa8",
   "metadata": {},
   "outputs": [
    {
     "name": "stdout",
     "output_type": "stream",
     "text": [
      "Hello\n",
      "World\n"
     ]
    }
   ],
   "source": [
    "#Basic Slicing\n",
    "text = \"Hello, World!\"\n",
    "print(text[0:5])  \n",
    "print(text[7:12]) "
   ]
  },
  {
   "cell_type": "code",
   "execution_count": 6,
   "id": "5b43dcc1-5839-4612-b632-403a9d7db83d",
   "metadata": {},
   "outputs": [
    {
     "name": "stdout",
     "output_type": "stream",
     "text": [
      "Hello\n",
      "World!\n"
     ]
    }
   ],
   "source": [
    "#Slicing with Omitted start or stop\n",
    "print(text[:5])   \n",
    "print(text[7:])"
   ]
  },
  {
   "cell_type": "code",
   "execution_count": 7,
   "id": "6fc24ebd-aaf3-412c-892f-73d94731cab9",
   "metadata": {},
   "outputs": [
    {
     "name": "stdout",
     "output_type": "stream",
     "text": [
      "World\n",
      "World!\n"
     ]
    }
   ],
   "source": [
    "#Slicing with Negative Indices\n",
    "print(text[-6:-1])\n",
    "print(text[-6:]) "
   ]
  },
  {
   "cell_type": "code",
   "execution_count": 8,
   "id": "2acd3617-27e6-4b56-bd0a-606192660884",
   "metadata": {},
   "outputs": [
    {
     "name": "stdout",
     "output_type": "stream",
     "text": [
      "!dlroW ,olleH\n"
     ]
    }
   ],
   "source": [
    "#Reversing a String\n",
    "print(text[::-1]) "
   ]
  },
  {
   "cell_type": "code",
   "execution_count": 9,
   "id": "c89718a2-1ebe-480a-af9e-a7e57708f5d6",
   "metadata": {},
   "outputs": [],
   "source": [
    "#Explain the key features of lists in python.\n",
    "\n",
    "#Lists are one of the most versatile and commonly used data structures in Python. Here are some key features of lists:"
   ]
  },
  {
   "cell_type": "code",
   "execution_count": 10,
   "id": "d25bf852-5d8a-4d9c-9085-e3f41e359334",
   "metadata": {},
   "outputs": [],
   "source": [
    "#Ordered Collection:\n",
    "\n",
    "#Lists maintain the order of elements as they are added. This means that you can access elements by their position or index.\""
   ]
  },
  {
   "cell_type": "code",
   "execution_count": 15,
   "id": "477770c1-1686-43c6-bbb7-7f0d436ee5df",
   "metadata": {},
   "outputs": [
    {
     "name": "stdout",
     "output_type": "stream",
     "text": [
      "['apple', 'banana', 'cherry']\n"
     ]
    }
   ],
   "source": [
    "#Example:\n",
    "fruits = ['apple', 'banana', 'cherry'] #keeps the order in which the fruits are listed.\n",
    "print(fruits)"
   ]
  },
  {
   "cell_type": "code",
   "execution_count": 12,
   "id": "5d416e1b-503d-47f8-9cee-92326afd7c77",
   "metadata": {},
   "outputs": [],
   "source": [
    "#Mutable:\n",
    "\n",
    "#Lists are mutable, meaning their elements can be changed after the list has been created. You can add, remove, or modify elements."
   ]
  },
  {
   "cell_type": "code",
   "execution_count": 16,
   "id": "0b8c5dbd-6a04-47aa-968f-95d730d0b62e",
   "metadata": {},
   "outputs": [
    {
     "name": "stdout",
     "output_type": "stream",
     "text": [
      "['apple', 'blueberry', 'cherry']\n"
     ]
    }
   ],
   "source": [
    "#Examples\n",
    "fruits[1] = 'blueberry'\n",
    "print(fruits)"
   ]
  },
  {
   "cell_type": "code",
   "execution_count": 17,
   "id": "de2187e2-7e15-4895-8f90-ccb398725d63",
   "metadata": {},
   "outputs": [],
   "source": [
    "#Dynamic Size:\n",
    "\n",
    "#Lists can grow or shrink in size. You can add or remove elements dynamically as needed."
   ]
  },
  {
   "cell_type": "code",
   "execution_count": 18,
   "id": "a71ad2e2-2433-4c61-a954-d87869a232fd",
   "metadata": {},
   "outputs": [
    {
     "name": "stdout",
     "output_type": "stream",
     "text": [
      "['apple', 'blueberry', 'cherry', 'elderberry']\n"
     ]
    }
   ],
   "source": [
    "#Examples\n",
    "fruits.append('elderberry')\n",
    "print(fruits)"
   ]
  },
  {
   "cell_type": "code",
   "execution_count": 19,
   "id": "389ee331-6865-4d6c-89d4-88e46a517a35",
   "metadata": {},
   "outputs": [
    {
     "name": "stdout",
     "output_type": "stream",
     "text": [
      "['apple', 'blueberry', 'elderberry']\n"
     ]
    }
   ],
   "source": [
    "fruits.remove('cherry')\n",
    "print(fruits)"
   ]
  },
  {
   "cell_type": "code",
   "execution_count": 20,
   "id": "163d801e-b211-4e31-8917-72d35e0b3756",
   "metadata": {},
   "outputs": [],
   "source": [
    "#Heterogeneous Elements:\n",
    "\n",
    "#Lists can store elements of different data types, including integers, floats, strings, and even other lists."
   ]
  },
  {
   "cell_type": "code",
   "execution_count": 21,
   "id": "7ad165ee-3056-43fa-be40-802eb0a178cc",
   "metadata": {},
   "outputs": [
    {
     "name": "stdout",
     "output_type": "stream",
     "text": [
      "['fig', 3.14, 7, ['grape', 'honeydew']]\n"
     ]
    }
   ],
   "source": [
    "#Examples\n",
    "mixed_list = ['fig', 3.14, 7, ['grape', 'honeydew']]\n",
    "print(mixed_list)"
   ]
  },
  {
   "cell_type": "code",
   "execution_count": 22,
   "id": "3ef4be44-9f7e-4888-b11d-f90f0466bbd2",
   "metadata": {},
   "outputs": [],
   "source": [
    "##Discuss how to access, modify, and delete elements in list with examples"
   ]
  },
  {
   "cell_type": "code",
   "execution_count": 23,
   "id": "0d7697c9-a8f0-4106-bd0a-f5ad1c7dcaa1",
   "metadata": {},
   "outputs": [],
   "source": [
    "#Accessing Elements in a List\n",
    "#Access by Index:\n",
    "\n",
    "#You can access elements by their index using square brackets"
   ]
  },
  {
   "cell_type": "code",
   "execution_count": 24,
   "id": "82524d0c-3698-49a5-b2f7-dfcc93a8abb6",
   "metadata": {},
   "outputs": [
    {
     "name": "stdout",
     "output_type": "stream",
     "text": [
      "apple\n",
      "cherry\n"
     ]
    }
   ],
   "source": [
    "fruits = ['apple', 'banana', 'cherry', 'date']\n",
    "print(fruits[0])  \n",
    "print(fruits[2]) "
   ]
  },
  {
   "cell_type": "code",
   "execution_count": 25,
   "id": "5c1abb1c-71e9-457a-9e6d-7e8a17112863",
   "metadata": {},
   "outputs": [
    {
     "name": "stdout",
     "output_type": "stream",
     "text": [
      "date\n",
      "cherry\n"
     ]
    }
   ],
   "source": [
    "#Negative Indexing:\n",
    "\n",
    "#Negative indices can be used to access elements from the end of the list.\n",
    "print(fruits[-1])  \n",
    "print(fruits[-2])  "
   ]
  },
  {
   "cell_type": "code",
   "execution_count": 26,
   "id": "47dc26fb-f866-420a-9391-d0fbec25e4ed",
   "metadata": {},
   "outputs": [
    {
     "name": "stdout",
     "output_type": "stream",
     "text": [
      "['banana', 'cherry']\n",
      "['apple', 'banana']\n",
      "['cherry', 'date']\n"
     ]
    }
   ],
   "source": [
    "#Slicing:\n",
    "\n",
    "#You can access a range of elements using slicing\n",
    "print(fruits[1:3])  \n",
    "print(fruits[:2])   \n",
    "print(fruits[2:])"
   ]
  },
  {
   "cell_type": "code",
   "execution_count": 27,
   "id": "ea167672-f454-43f3-981e-3aad199e6e7e",
   "metadata": {},
   "outputs": [],
   "source": [
    "#Modifying Elements in a List"
   ]
  },
  {
   "cell_type": "code",
   "execution_count": 28,
   "id": "a2b7c272-c63e-4b1b-ab61-cd06db77d36f",
   "metadata": {},
   "outputs": [
    {
     "name": "stdout",
     "output_type": "stream",
     "text": [
      "['apple', 'blueberry', 'cherry', 'date']\n"
     ]
    }
   ],
   "source": [
    "#Modify by Index:\n",
    "\n",
    "#You can change an element by accessing it via its index and assigning a new value.\n",
    "fruits[1] = 'blueberry'\n",
    "print(fruits)  "
   ]
  },
  {
   "cell_type": "code",
   "execution_count": 29,
   "id": "8ef27dca-37af-4b1b-a6e2-d4e16e63dd0e",
   "metadata": {},
   "outputs": [
    {
     "name": "stdout",
     "output_type": "stream",
     "text": [
      "['apple', 'banana', 'grape', 'date']\n"
     ]
    }
   ],
   "source": [
    "#Modify a Range with Slicing:\n",
    "\n",
    "#You can modify multiple elements by assigning new values to a slice.\n",
    "fruits[1:3] = ['banana', 'grape']\n",
    "print(fruits) "
   ]
  },
  {
   "cell_type": "code",
   "execution_count": 30,
   "id": "b72b4805-ca39-4785-bc46-73e295716501",
   "metadata": {},
   "outputs": [],
   "source": [
    "#Deleting Elements in a List"
   ]
  },
  {
   "cell_type": "code",
   "execution_count": 31,
   "id": "0eb34cc7-fee2-45bd-9ac7-22012fe1d58a",
   "metadata": {},
   "outputs": [
    {
     "name": "stdout",
     "output_type": "stream",
     "text": [
      "['apple', 'banana', 'date']\n"
     ]
    }
   ],
   "source": [
    "del fruits[2]\n",
    "print(fruits)  "
   ]
  },
  {
   "cell_type": "code",
   "execution_count": 32,
   "id": "1c4a87bb-f394-4ac9-8035-e099c8dfc076",
   "metadata": {},
   "outputs": [],
   "source": [
    "#compare and contrast tuples and lists with examples"
   ]
  },
  {
   "cell_type": "code",
   "execution_count": 33,
   "id": "55e89bed-7dee-4eb2-bc1f-be12da088b1e",
   "metadata": {},
   "outputs": [],
   "source": [
    "#Tuples and lists are both sequence data types in Python, but they have some key differences. Here’s a comparison of their features, along with examples:"
   ]
  },
  {
   "cell_type": "code",
   "execution_count": 1,
   "id": "bbcaa57d-29d3-4209-bf52-e4578cc6b79d",
   "metadata": {},
   "outputs": [],
   "source": [
    "#Mutability\n",
    "#Lists: Lists are mutable, meaning their elements can be changed after the list has been created."
   ]
  },
  {
   "cell_type": "code",
   "execution_count": 2,
   "id": "9f1614d1-32b4-4836-a70c-958efc21b7fe",
   "metadata": {},
   "outputs": [
    {
     "name": "stdout",
     "output_type": "stream",
     "text": [
      "['apple', 'blueberry', 'cherry']\n"
     ]
    }
   ],
   "source": [
    "fruits = ['apple', 'banana', 'cherry']\n",
    "fruits[1] = 'blueberry'\n",
    "print(fruits)"
   ]
  },
  {
   "cell_type": "code",
   "execution_count": 3,
   "id": "48659543-5b2f-4670-806f-39ee77b99a17",
   "metadata": {},
   "outputs": [],
   "source": [
    "#Tuples: Tuples are immutable, meaning once they are created, their elements cannot be changed.\n",
    "fruits = ('apple', 'banana', 'cherry')\n",
    "# Attempting to change an element will result in an error\n",
    "# fruits[1] = 'blueberry'  # TypeError: 'tuple' object does not support item assignment"
   ]
  },
  {
   "cell_type": "code",
   "execution_count": 1,
   "id": "a83649c4-624c-49e3-99f0-b4d031099f3b",
   "metadata": {},
   "outputs": [],
   "source": [
    "#Syntax\n",
    "#Lists: Lists are created using square brackets [].\n",
    "fruits = ['apple', 'banana', 'cherry']"
   ]
  },
  {
   "cell_type": "code",
   "execution_count": 2,
   "id": "ff86782a-7c93-4dfb-9c2f-2b79af458b74",
   "metadata": {},
   "outputs": [],
   "source": [
    "#Tuples: Tuples are created using parentheses ().\n",
    "fruits = ('apple', 'banana', 'cherry')"
   ]
  },
  {
   "cell_type": "code",
   "execution_count": 3,
   "id": "4ca133a1-b3f3-43e7-b6ab-dc4ced37d5f1",
   "metadata": {},
   "outputs": [],
   "source": [
    "#Syntax\n",
    "#List\n",
    "fruits = ['apple', 'banana', 'cherry']"
   ]
  },
  {
   "cell_type": "code",
   "execution_count": 4,
   "id": "f6a6f9f9-fefb-4a87-95c2-6b32eb013a5c",
   "metadata": {},
   "outputs": [],
   "source": [
    "#Syntax\n",
    "#Tuples\n",
    "fruits = ('apple', 'banana', 'cherry')"
   ]
  },
  {
   "cell_type": "code",
   "execution_count": 5,
   "id": "bcb95a36-8ae8-46b4-b3f1-ac047787eca4",
   "metadata": {},
   "outputs": [],
   "source": [
    "#Performance\n",
    "#Lists: Lists have more flexibility but can be slower for certain operations due to their mutability.\n",
    "\n",
    "#Tuples: Tuples are generally faster than lists for iterating and accessing elements because they are immutable."
   ]
  },
  {
   "cell_type": "code",
   "execution_count": 6,
   "id": "cc34b79d-ac35-4f9a-a88d-b800649f2cbe",
   "metadata": {},
   "outputs": [],
   "source": [
    "#Memory Usage\n",
    "#Lists: Lists consume more memory due to their flexibility and the overhead associated with their mutability.\n",
    "\n",
    "#Tuples: Tuples consume less memory because they are immutable and thus more memory-efficient."
   ]
  },
  {
   "cell_type": "code",
   "execution_count": 7,
   "id": "e2895ee3-f8c2-41ab-ad5d-6b17bc84aa86",
   "metadata": {},
   "outputs": [],
   "source": [
    "#Describe the key features of sets and provide examples of their use."
   ]
  },
  {
   "cell_type": "code",
   "execution_count": 8,
   "id": "4438997b-1ab7-433f-b714-2f386ce3487d",
   "metadata": {},
   "outputs": [],
   "source": [
    "#Key Features of Sets in Python\n",
    "#Unordered Collection:\n",
    "\n",
    "#Sets are unordered collections of unique elements. This means that the items in a set do not have a defined order."
   ]
  },
  {
   "cell_type": "code",
   "execution_count": 19,
   "id": "a8277c23-ca28-4f78-894c-74bef1e73ebe",
   "metadata": {},
   "outputs": [
    {
     "name": "stdout",
     "output_type": "stream",
     "text": [
      "{'apple', 'banana', 'cherry'}\n"
     ]
    }
   ],
   "source": [
    "fruits = {'apple', 'banana', 'cherry'}\n",
    "print(fruits)  "
   ]
  },
  {
   "cell_type": "code",
   "execution_count": 10,
   "id": "fbb2243f-94fe-4b6d-806b-c783bd486472",
   "metadata": {},
   "outputs": [],
   "source": [
    "#No Duplicate Elements:\n",
    "\n",
    "#Sets automatically remove duplicate items. If an element is added to a set more than once, it will only appear once in the set."
   ]
  },
  {
   "cell_type": "code",
   "execution_count": 18,
   "id": "ff34baa6-51a5-404b-aa18-e75762287cff",
   "metadata": {},
   "outputs": [
    {
     "name": "stdout",
     "output_type": "stream",
     "text": [
      "{'apple', 'banana', 'cherry'}\n"
     ]
    }
   ],
   "source": [
    "fruits = {'apple', 'banana', 'cherry', 'apple'}\n",
    "print(fruits)  "
   ]
  },
  {
   "cell_type": "code",
   "execution_count": 12,
   "id": "c6b4eb73-5825-4039-83bc-56ee82b0e688",
   "metadata": {},
   "outputs": [],
   "source": [
    "#Mutable:\n",
    "\n",
    "#Sets are mutable, meaning that you can add or remove elements after the set has been created."
   ]
  },
  {
   "cell_type": "code",
   "execution_count": 17,
   "id": "34fda71d-b538-45a2-b24a-811bc64a0806",
   "metadata": {},
   "outputs": [
    {
     "name": "stdout",
     "output_type": "stream",
     "text": [
      "{'apple', 'banana', 'cherry'}\n",
      "{'apple', 'cherry'}\n"
     ]
    }
   ],
   "source": [
    "fruits = {'apple', 'banana'}\n",
    "fruits.add('cherry')\n",
    "print(fruits) \n",
    "\n",
    "fruits.remove('banana')\n",
    "print(fruits)  "
   ]
  },
  {
   "cell_type": "code",
   "execution_count": 14,
   "id": "95199551-6be1-496b-89a0-8aef6ce26dd1",
   "metadata": {},
   "outputs": [],
   "source": [
    "#Set Operations:\n",
    "\n",
    "#Sets support various mathematical operations like union, intersection, difference, and symmetric difference."
   ]
  },
  {
   "cell_type": "code",
   "execution_count": 16,
   "id": "f889403c-6596-4da2-902a-4b78b6a258b3",
   "metadata": {},
   "outputs": [
    {
     "name": "stdout",
     "output_type": "stream",
     "text": [
      "{'apple', 'date', 'fig', 'banana', 'cherry'}\n",
      "{'cherry'}\n",
      "{'apple', 'banana'}\n",
      "{'apple', 'date', 'fig', 'banana'}\n"
     ]
    }
   ],
   "source": [
    "set1 = {'apple', 'banana', 'cherry'}\n",
    "set2 = {'cherry', 'date', 'fig'}\n",
    "\n",
    "# Union\n",
    "print(set1 | set2)  \n",
    "\n",
    "# Intersection\n",
    "print(set1 & set2)\n",
    "\n",
    "# Difference\n",
    "print(set1 - set2) \n",
    "\n",
    "# Symmetric Difference\n",
    "print(set1 ^ set2) "
   ]
  },
  {
   "cell_type": "code",
   "execution_count": 20,
   "id": "5cfd7072-2ddb-47f7-bf63-d31d52ca5d3c",
   "metadata": {},
   "outputs": [],
   "source": [
    "#Examples of Using Sets"
   ]
  },
  {
   "cell_type": "code",
   "execution_count": 22,
   "id": "020f0826-4d21-489b-9694-59a89613cb47",
   "metadata": {},
   "outputs": [
    {
     "name": "stdout",
     "output_type": "stream",
     "text": [
      "['apple', 'banana', 'cherry']\n"
     ]
    }
   ],
   "source": [
    "#Removing Duplicates from a List:\n",
    "\n",
    "#Sets can be used to remove duplicates from a list, as sets automatically enforce unique elements.\n",
    "fruits_list = ['apple', 'banana', 'cherry', 'apple', 'banana']\n",
    "fruits_set = set(fruits_list)\n",
    "unique_fruits_list = list(fruits_set)\n",
    "print(unique_fruits_list)  "
   ]
  },
  {
   "cell_type": "code",
   "execution_count": 23,
   "id": "01c4deb2-4cd8-48ea-bc70-0dbe771438ca",
   "metadata": {},
   "outputs": [],
   "source": [
    "#Discuss the use case of tuples and sets in python programming."
   ]
  },
  {
   "cell_type": "code",
   "execution_count": 24,
   "id": "64973e5b-d3f7-4f08-a807-8a2e62829afb",
   "metadata": {},
   "outputs": [],
   "source": [
    "#Use Cases of Tuples in Python\n",
    "#Immutable Data Storage:\n",
    "\n",
    "#Tuples are ideal for storing data that should not be changed throughout the program. For example, storing coordinates of a point, or RGB values of a color."
   ]
  },
  {
   "cell_type": "code",
   "execution_count": 25,
   "id": "e25a3d7a-766f-4649-ac1d-e8afa8c9f837",
   "metadata": {},
   "outputs": [],
   "source": [
    "point = (4, 5)\n",
    "color = (255, 0, 0)"
   ]
  },
  {
   "cell_type": "code",
   "execution_count": 26,
   "id": "35a3bffe-1537-4e44-a315-7e7c2e9e6fe4",
   "metadata": {},
   "outputs": [],
   "source": [
    "#Data Integrity:\n",
    "\n",
    "#When you want to ensure that data remains constant, tuples can be used to protect it from accidental modifications. This is useful in passing constants or configuration settings."
   ]
  },
  {
   "cell_type": "code",
   "execution_count": 27,
   "id": "afc57953-8e03-40e3-9b10-30356a442f07",
   "metadata": {},
   "outputs": [],
   "source": [
    "config = ('localhost', 8080, '/api')"
   ]
  },
  {
   "cell_type": "code",
   "execution_count": 28,
   "id": "9058fab3-9f76-466d-a8b1-b0af7ed90e1d",
   "metadata": {},
   "outputs": [],
   "source": [
    "#Dictionary Keys:\n",
    "\n",
    "#Tuples can be used as keys in dictionaries because they are immutable, unlike lists.\n",
    "location_data = {\n",
    "    (40.7128, -74.0060): \"New York\",\n",
    "    (34.0522, -118.2437): \"Los Angeles\"\n",
    "}"
   ]
  },
  {
   "cell_type": "code",
   "execution_count": 29,
   "id": "fa92e211-c95a-48f1-9a3e-6c5b8b82e3f9",
   "metadata": {},
   "outputs": [
    {
     "name": "stdout",
     "output_type": "stream",
     "text": [
      "Riya\n"
     ]
    }
   ],
   "source": [
    "#Named Tuples:\n",
    "\n",
    "#Named tuples provide a way to define simple classes with named fields. This can make the code more readable and self-documenting.\n",
    "\n",
    "from collections import namedtuple\n",
    "Person = namedtuple('Person', 'name age')\n",
    "riya = Person(name='Riya', age=22)\n",
    "print(riya.name) "
   ]
  },
  {
   "cell_type": "code",
   "execution_count": 30,
   "id": "c4f7eac0-05ac-47d1-b822-2a06aa3da9d1",
   "metadata": {},
   "outputs": [],
   "source": [
    "#Use Cases of Sets in Python\n",
    "#Removing Duplicates:\n",
    "\n",
    "#Sets automatically remove duplicate items. They can be used to create a collection of unique elements from a list."
   ]
  },
  {
   "cell_type": "code",
   "execution_count": 32,
   "id": "8ff56566-bcd4-48e5-ab27-25d220042cd8",
   "metadata": {},
   "outputs": [
    {
     "name": "stdout",
     "output_type": "stream",
     "text": [
      "{1, 2, 3, 4, 5}\n"
     ]
    }
   ],
   "source": [
    "items = [1, 2, 2, 3, 4, 4, 5]\n",
    "unique_items = set(items)\n",
    "print(unique_items)  "
   ]
  },
  {
   "cell_type": "code",
   "execution_count": 33,
   "id": "75d97305-572d-4465-97b7-967c64b787ae",
   "metadata": {},
   "outputs": [
    {
     "name": "stdout",
     "output_type": "stream",
     "text": [
      "{'banana', 'cherry'}\n"
     ]
    }
   ],
   "source": [
    "#Set Operations:\n",
    "\n",
    "#Sets support mathematical operations like union, intersection, and difference. These can be used for tasks like finding common elements between collections.\n",
    "\n",
    "set1 = {'apple', 'banana', 'cherry'}\n",
    "set2 = {'banana', 'date', 'cherry'}\n",
    "\n",
    "common = set1 & set2  # Intersection\n",
    "print(common)  "
   ]
  },
  {
   "cell_type": "code",
   "execution_count": 34,
   "id": "c025f947-3f6a-41aa-8d72-897a7004a7f7",
   "metadata": {},
   "outputs": [],
   "source": [
    "#Tuples:\n",
    "\n",
    "#Useful for storing immutable data.\n",
    "#Ideal for returning multiple values from functions.\n",
    "\n",
    "#Sets:\n",
    "\n",
    "#Automatically remove duplicates, ensuring uniqueness.\n",
    "#Support set operations like union, intersection, and difference."
   ]
  },
  {
   "cell_type": "code",
   "execution_count": 35,
   "id": "f831a33c-a880-4708-a524-cb0ef8ea987c",
   "metadata": {},
   "outputs": [],
   "source": [
    "#Describe how to add, modify, and delete items in a dictionary with examples."
   ]
  },
  {
   "cell_type": "code",
   "execution_count": 36,
   "id": "03887104-1d55-4956-b6f2-5217153a6478",
   "metadata": {},
   "outputs": [],
   "source": [
    "#Adding, Modifying, and Deleting Items in a Dictionary\n",
    "#Dictionaries in Python are collections of key-value pairs. They are mutable, which means you can add, modify, and delete items after the dictionary is created.\n",
    "\n",
    "#Adding Items to a Dictionary\n",
    "#To add an item to a dictionary, simply assign a value to a new key."
   ]
  },
  {
   "cell_type": "code",
   "execution_count": 37,
   "id": "80bcbceb-1539-42e4-b8ae-228270bbb361",
   "metadata": {},
   "outputs": [
    {
     "name": "stdout",
     "output_type": "stream",
     "text": [
      "{'apple': 10, 'banana': 5, 'cherry': 20}\n"
     ]
    }
   ],
   "source": [
    "# Initializing an empty dictionary\n",
    "fruits = {}\n",
    "\n",
    "# Adding items\n",
    "fruits['apple'] = 10\n",
    "fruits['banana'] = 5\n",
    "fruits['cherry'] = 20\n",
    "\n",
    "print(fruits)  "
   ]
  },
  {
   "cell_type": "code",
   "execution_count": 38,
   "id": "4d29de12-4377-48e4-be53-149cb1d84782",
   "metadata": {},
   "outputs": [
    {
     "name": "stdout",
     "output_type": "stream",
     "text": [
      "{'apple': 10, 'banana': 7, 'cherry': 25}\n"
     ]
    }
   ],
   "source": [
    "#Modifying Items in a Dictionary\n",
    "#To modify an existing item, assign a new value to an existing key.\n",
    "# Initializing a dictionary\n",
    "fruits = {'apple': 10, 'banana': 5, 'cherry': 20}\n",
    "\n",
    "# Modifying items\n",
    "fruits['banana'] = 7\n",
    "fruits['cherry'] = 25\n",
    "\n",
    "print(fruits)"
   ]
  },
  {
   "cell_type": "code",
   "execution_count": 39,
   "id": "76a1ef73-1c4c-4d34-bf1d-f3c7d29eb2a3",
   "metadata": {},
   "outputs": [
    {
     "name": "stdout",
     "output_type": "stream",
     "text": [
      "{'apple': 10, 'cherry': 25}\n"
     ]
    }
   ],
   "source": [
    "#Deleting Items from a Dictionary\n",
    "#You can delete items from a dictionary using the del statement or the pop method.\n",
    "# Initializing a dictionary\n",
    "fruits = {'apple': 10, 'banana': 7, 'cherry': 25}\n",
    "\n",
    "# Deleting an item\n",
    "del fruits['banana']\n",
    "\n",
    "print(fruits) "
   ]
  },
  {
   "cell_type": "code",
   "execution_count": 40,
   "id": "efc8bb4f-1f92-4113-bb6f-8ef31395d10f",
   "metadata": {},
   "outputs": [],
   "source": [
    "#Discuss the importance of dictionary keys being immutable and provide examples."
   ]
  },
  {
   "cell_type": "code",
   "execution_count": 41,
   "id": "d1035484-86dd-431f-a458-f35ff2a58721",
   "metadata": {},
   "outputs": [],
   "source": [
    "#Importance of Dictionary Keys Being Immutable\n",
    "\n",
    "#In Python, dictionary keys must be immutable because dictionaries use a hashing mechanism to store and retrieve values efficiently.\n",
    "#The hash value of a key must not change during its lifetime.\n",
    "#The hash value is used to determine the index in the internal data structure where the value associated with that key is stored.\n",
    "#If keys were mutable and their values could change, it would lead to inconsistencies and errors in retrieving the values."
   ]
  },
  {
   "cell_type": "code",
   "execution_count": 42,
   "id": "b061d9d9-9b26-41d5-ac4d-aa9662184c77",
   "metadata": {},
   "outputs": [],
   "source": [
    "#Here are the reasons why dictionary keys must be immutable:\n",
    "\n",
    "#Hashability:\n",
    "\n",
    "#Immutable objects have a fixed hash value which is essential for the dictionary's internal hash table to function correctly.\n",
    "#Only hashable objects can be used as dictionary keys.\n",
    "\n",
    "#Consistency:\n",
    "\n",
    "#If a key were mutable, changing the key's value after it has been added to the dictionary would cause a mismatch between the stored hash and the new hash of the mutated key. \n",
    "#This would make it impossible to retrieve the value using the original key.\n"
   ]
  },
  {
   "cell_type": "code",
   "execution_count": 43,
   "id": "ce55dbd1-42a4-424d-90ac-1fe43f4ee761",
   "metadata": {},
   "outputs": [],
   "source": [
    "#Performance:\n",
    "\n",
    "#Dictionaries rely on the hash value of keys for quick access. Immutability ensures that the hash value remains constant, allowing for fast and efficient lookups."
   ]
  },
  {
   "cell_type": "code",
   "execution_count": 44,
   "id": "d86e6ecb-e98c-47b7-b3c9-bd1024235f2d",
   "metadata": {},
   "outputs": [
    {
     "name": "stdout",
     "output_type": "stream",
     "text": [
      "10\n"
     ]
    }
   ],
   "source": [
    "#Examples\n",
    "#Immutable Keys (Valid)\n",
    "#Strings as Keys:\n",
    "fruits = {'apple': 10, 'banana': 5, 'cherry': 20}\n",
    "print(fruits['apple']) "
   ]
  },
  {
   "cell_type": "code",
   "execution_count": 45,
   "id": "5fccb35e-eb95-43d1-b920-ffd9e461f995",
   "metadata": {},
   "outputs": [
    {
     "name": "stdout",
     "output_type": "stream",
     "text": [
      "two\n"
     ]
    }
   ],
   "source": [
    "#Numbers as Keys\n",
    "numbers = {1: 'one', 2: 'two', 3: 'three'}\n",
    "print(numbers[2])  "
   ]
  },
  {
   "cell_type": "code",
   "execution_count": 46,
   "id": "5bc3dade-e69b-4b19-b731-aa92b65b5cb2",
   "metadata": {},
   "outputs": [
    {
     "name": "stdout",
     "output_type": "stream",
     "text": [
      "unhashable type: 'list'\n"
     ]
    }
   ],
   "source": [
    "#Mutable Keys (Invalid)\n",
    "#Lists as Keys:\n",
    "try:\n",
    "    invalid_dict = {[1, 2, 3]: 'value'}\n",
    "except TypeError as e:\n",
    "    print(e)  "
   ]
  },
  {
   "cell_type": "code",
   "execution_count": null,
   "id": "635ba897-688d-4ca6-8090-2cb5cd24bbb4",
   "metadata": {},
   "outputs": [],
   "source": []
  }
 ],
 "metadata": {
  "kernelspec": {
   "display_name": "Python 3 (ipykernel)",
   "language": "python",
   "name": "python3"
  },
  "language_info": {
   "codemirror_mode": {
    "name": "ipython",
    "version": 3
   },
   "file_extension": ".py",
   "mimetype": "text/x-python",
   "name": "python",
   "nbconvert_exporter": "python",
   "pygments_lexer": "ipython3",
   "version": "3.10.8"
  }
 },
 "nbformat": 4,
 "nbformat_minor": 5
}
